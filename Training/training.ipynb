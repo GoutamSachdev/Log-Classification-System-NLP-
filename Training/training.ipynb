{
 "cells": [
  {
   "cell_type": "code",
   "execution_count": 1,
   "id": "initial_id",
   "metadata": {
    "collapsed": true,
    "ExecuteTime": {
     "end_time": "2025-02-10T12:41:39.906491Z",
     "start_time": "2025-02-10T12:41:32.360737Z"
    }
   },
   "outputs": [
    {
     "data": {
      "text/plain": "             timestamp           source  \\\n0  2025-06-27 07:20:25        ModernCRM   \n1      1/14/2025 23:07        ModernCRM   \n2       1/17/2025 1:29  AnalyticsEngine   \n3  2025-07-12 00:24:16         ModernHR   \n4  2025-06-02 18:25:23    BillingSystem   \n\n                                         log_message    target_label  \\\n0  nova.osapi_compute.wsgi.server [req-b9718cd8-f...     HTTP Status   \n1     Email service experiencing issues with sending  Critical Error   \n2          Unauthorized access to data was attempted  Security Alert   \n3  nova.osapi_compute.wsgi.server [req-4895c258-b...     HTTP Status   \n4  nova.osapi_compute.wsgi.server [req-ee8bc8ba-9...     HTTP Status   \n\n  complexity  \n0       bert  \n1       bert  \n2       bert  \n3       bert  \n4       bert  ",
      "text/html": "<div>\n<style scoped>\n    .dataframe tbody tr th:only-of-type {\n        vertical-align: middle;\n    }\n\n    .dataframe tbody tr th {\n        vertical-align: top;\n    }\n\n    .dataframe thead th {\n        text-align: right;\n    }\n</style>\n<table border=\"1\" class=\"dataframe\">\n  <thead>\n    <tr style=\"text-align: right;\">\n      <th></th>\n      <th>timestamp</th>\n      <th>source</th>\n      <th>log_message</th>\n      <th>target_label</th>\n      <th>complexity</th>\n    </tr>\n  </thead>\n  <tbody>\n    <tr>\n      <th>0</th>\n      <td>2025-06-27 07:20:25</td>\n      <td>ModernCRM</td>\n      <td>nova.osapi_compute.wsgi.server [req-b9718cd8-f...</td>\n      <td>HTTP Status</td>\n      <td>bert</td>\n    </tr>\n    <tr>\n      <th>1</th>\n      <td>1/14/2025 23:07</td>\n      <td>ModernCRM</td>\n      <td>Email service experiencing issues with sending</td>\n      <td>Critical Error</td>\n      <td>bert</td>\n    </tr>\n    <tr>\n      <th>2</th>\n      <td>1/17/2025 1:29</td>\n      <td>AnalyticsEngine</td>\n      <td>Unauthorized access to data was attempted</td>\n      <td>Security Alert</td>\n      <td>bert</td>\n    </tr>\n    <tr>\n      <th>3</th>\n      <td>2025-07-12 00:24:16</td>\n      <td>ModernHR</td>\n      <td>nova.osapi_compute.wsgi.server [req-4895c258-b...</td>\n      <td>HTTP Status</td>\n      <td>bert</td>\n    </tr>\n    <tr>\n      <th>4</th>\n      <td>2025-06-02 18:25:23</td>\n      <td>BillingSystem</td>\n      <td>nova.osapi_compute.wsgi.server [req-ee8bc8ba-9...</td>\n      <td>HTTP Status</td>\n      <td>bert</td>\n    </tr>\n  </tbody>\n</table>\n</div>"
     },
     "execution_count": 1,
     "metadata": {},
     "output_type": "execute_result"
    }
   ],
   "source": [
    "import pandas as pd\n",
    "df=pd.read_csv('Dataset/synthetic_logs.csv')\n",
    "df.head()"
   ]
  },
  {
   "cell_type": "code",
   "outputs": [
    {
     "data": {
      "text/plain": "array(['ModernCRM', 'AnalyticsEngine', 'ModernHR', 'BillingSystem',\n       'ThirdPartyAPI', 'LegacyCRM'], dtype=object)"
     },
     "execution_count": 2,
     "metadata": {},
     "output_type": "execute_result"
    }
   ],
   "source": [
    "df.source.unique()"
   ],
   "metadata": {
    "collapsed": false,
    "ExecuteTime": {
     "end_time": "2025-02-10T12:41:53.466615Z",
     "start_time": "2025-02-10T12:41:53.453639Z"
    }
   },
   "id": "5317ffa55e16efc9",
   "execution_count": 2
  },
  {
   "cell_type": "code",
   "outputs": [
    {
     "data": {
      "text/plain": "array(['HTTP Status', 'Critical Error', 'Security Alert', 'Error',\n       'System Notification', 'Resource Usage', 'User Action',\n       'Workflow Error', 'Deprecation Warning'], dtype=object)"
     },
     "execution_count": 3,
     "metadata": {},
     "output_type": "execute_result"
    }
   ],
   "source": [
    "df.target_label.unique()"
   ],
   "metadata": {
    "collapsed": false,
    "ExecuteTime": {
     "end_time": "2025-02-10T12:41:54.708088Z",
     "start_time": "2025-02-10T12:41:54.697731Z"
    }
   },
   "id": "7cd5f04c5cca0847",
   "execution_count": 3
  },
  {
   "cell_type": "code",
   "outputs": [],
   "source": [
    "from sklearn.cluster import DBSCAN\n",
    "from sentence_transformers import SentenceTransformer\n",
    "\n",
    "\n",
    "\n",
    "# Initialize model, you can choose any other model if needed\n",
    "model = SentenceTransformer('all-MiniLM-L6-v2')\n",
    "\n",
    "# Converts sentences to vectors\n",
    "embeddings = model.encode(df['log_message'].tolist())\n",
    "\n",
    "\n",
    "\n"
   ],
   "metadata": {
    "collapsed": false,
    "ExecuteTime": {
     "end_time": "2025-02-10T12:44:18.394333Z",
     "start_time": "2025-02-10T12:41:55.917575Z"
    }
   },
   "id": "c57525175a2118d9",
   "execution_count": 4
  },
  {
   "cell_type": "code",
   "outputs": [
    {
     "data": {
      "text/plain": "            timestamp         source  \\\n7     10/11/2025 8:44       ModernHR   \n1824   1/1/2025 18:53  BillingSystem   \n\n                                            log_message         target_label  \\\n7     File data_6169.csv uploaded successfully by us...  System Notification   \n1824  File data_3868.csv uploaded successfully by us...  System Notification   \n\n     complexity  cluster  \n7         regex        1  \n1824      regex        1  ",
      "text/html": "<div>\n<style scoped>\n    .dataframe tbody tr th:only-of-type {\n        vertical-align: middle;\n    }\n\n    .dataframe tbody tr th {\n        vertical-align: top;\n    }\n\n    .dataframe thead th {\n        text-align: right;\n    }\n</style>\n<table border=\"1\" class=\"dataframe\">\n  <thead>\n    <tr style=\"text-align: right;\">\n      <th></th>\n      <th>timestamp</th>\n      <th>source</th>\n      <th>log_message</th>\n      <th>target_label</th>\n      <th>complexity</th>\n      <th>cluster</th>\n    </tr>\n  </thead>\n  <tbody>\n    <tr>\n      <th>7</th>\n      <td>10/11/2025 8:44</td>\n      <td>ModernHR</td>\n      <td>File data_6169.csv uploaded successfully by us...</td>\n      <td>System Notification</td>\n      <td>regex</td>\n      <td>1</td>\n    </tr>\n    <tr>\n      <th>1824</th>\n      <td>1/1/2025 18:53</td>\n      <td>BillingSystem</td>\n      <td>File data_3868.csv uploaded successfully by us...</td>\n      <td>System Notification</td>\n      <td>regex</td>\n      <td>1</td>\n    </tr>\n  </tbody>\n</table>\n</div>"
     },
     "execution_count": 5,
     "metadata": {},
     "output_type": "execute_result"
    }
   ],
   "source": [
    "# Initialize DBScan\n",
    "clustering_model = DBSCAN(eps=0.3, min_samples=2,metric='euclidean')\n",
    "labels = clustering_model.fit_predict(embeddings)\n",
    "  \n",
    "df['cluster'] = labels\n",
    "df[df.cluster==1]"
   ],
   "metadata": {
    "collapsed": false,
    "ExecuteTime": {
     "end_time": "2025-02-10T12:51:39.865709Z",
     "start_time": "2025-02-10T12:51:32.761564Z"
    }
   },
   "id": "7824721e0fe9383b",
   "execution_count": 5
  },
  {
   "cell_type": "markdown",
   "source": [],
   "metadata": {
    "collapsed": false
   },
   "id": "7c0cfc637ec9ae2c"
  },
  {
   "cell_type": "code",
   "outputs": [
    {
     "name": "stdout",
     "output_type": "stream",
     "text": [
      "Cluster: -1:\n",
      " Email service experiencing issues with sending\n",
      "      Unauthorized access to data was attempted\n",
      "      Shard 6 replication task ended in failure\n",
      "       Email server encountered a sending fault\n",
      "Critical system unit error: unit ID Component55\n",
      "\n",
      "\n",
      "Cluster: 0:\n",
      "nova.osapi_compute.wsgi.server [req-b9718cd8-f6...\n",
      "nova.osapi_compute.wsgi.server [req-4895c258-b2...\n",
      "nova.osapi_compute.wsgi.server [req-ee8bc8ba-92...\n",
      "nova.osapi_compute.wsgi.server [req-f0bffbc3-5a...\n",
      "nova.osapi_compute.wsgi.server [req-2bf7cfee-a2...\n",
      "\n",
      "\n",
      "Cluster: 17:\n",
      "nova.metadata.wsgi.server [req-61196723-e034-48...\n",
      "nova.metadata.wsgi.server [req-7d3eeb2d-3948-43...\n",
      "nova.metadata.wsgi.server [-] 10.11.21.137,10.1...\n",
      "nova.metadata.wsgi.server [req-e0d4ce94-e0cb-41...\n",
      "nova.metadata.wsgi.server [req-c1795e2c-0a17-4a...\n",
      "\n",
      "\n",
      "Cluster: 4:\n",
      "Backup completed successfully.\n",
      "Backup completed successfully.\n",
      "Backup completed successfully.\n",
      "Backup completed successfully.\n",
      "Backup completed successfully.\n",
      "\n",
      "\n",
      "Cluster: 21:\n",
      "Backup ended at 2025-08-08 13:06:23.\n",
      "Backup ended at 2025-06-01 06:27:38.\n",
      "Backup ended at 2025-11-16 08:17:13.\n",
      "Backup ended at 2025-07-18 17:06:54.\n",
      "Backup ended at 2025-08-18 14:29:26.\n",
      "\n",
      "\n",
      "Cluster: 20:\n",
      "Disk cleanup completed successfully.\n",
      "Disk cleanup completed successfully.\n",
      "Disk cleanup completed successfully.\n",
      "Disk cleanup completed successfully.\n",
      "Disk cleanup completed successfully.\n",
      "\n",
      "\n",
      "Cluster: 5:\n",
      "nova.osapi_compute.wsgi.server [req-033d97b9-69...\n",
      "nova.osapi_compute.wsgi.server [req-d6e9cfb8-d9...\n",
      "nova.osapi_compute.wsgi.server [req-8c36e637-8e...\n",
      "nova.osapi_compute.wsgi.server [req-0b7fefce-6f...\n",
      "nova.osapi_compute.wsgi.server [req-60f50a9d-82...\n",
      "\n",
      "\n",
      "Cluster: 8:\n",
      "Backup started at 2025-05-14 07:06:55.\n",
      "Backup started at 2025-02-15 20:00:19.\n",
      "Backup started at 2025-11-14 08:27:43.\n",
      "Backup started at 2025-12-09 10:19:11.\n",
      "Backup started at 2025-01-15 04:36:39.\n",
      "\n",
      "\n",
      "Cluster: 39:\n",
      "User User881 logged out.\n",
      "User User842 logged out.\n",
      "User User822 logged out.\n",
      "User User950 logged out.\n",
      "User User402 logged out.\n",
      "\n",
      "\n",
      "Cluster: 9:\n",
      "nova.metadata.wsgi.server [-] 10.11.21.138,10.1...\n",
      "nova.metadata.wsgi.server [-] 10.11.21.139,10.1...\n",
      "nova.metadata.wsgi.server [req-e840cb3c-2e87-4b...\n",
      "nova.metadata.wsgi.server [-] 10.11.21.123,10.1...\n",
      "nova.metadata.wsgi.server [req-27525a89-b0a1-4d...\n",
      "\n",
      "\n",
      "Cluster: 26:\n",
      "nova.compute.claims [req-2d658d2c-7eff-414e-a68...\n",
      "nova.compute.claims [req-4b4dd551-26d8-48e2-bd5...\n",
      "nova.compute.claims [req-1162e278-3bf2-4b32-93b...\n",
      "nova.compute.claims [req-d82fab16-60f8-4c9f-bde...\n",
      "nova.compute.claims [req-868a5460-dbb6-416b-b4c...\n",
      "\n",
      "\n",
      "Cluster: 7:\n",
      "nova.compute.claims [req-d6986b54-3735-4a42-907...\n",
      "nova.compute.claims [req-d82fab16-60f8-4c9f-bde...\n",
      "nova.compute.claims [req-01d570b0-78a7-4719-b7a...\n",
      "nova.compute.claims [req-98474cd9-61e1-4afe-bd5...\n",
      "nova.compute.claims [req-caeb3818-dab6-4e8d-9ea...\n",
      "\n",
      "\n",
      "Cluster: 13:\n",
      "nova.compute.claims [req-72b4858f-049e-49e1-b31...\n",
      "nova.compute.claims [req-d38f479d-9bb9-4276-968...\n",
      "nova.compute.claims [req-6a763803-4838-49c7-814...\n",
      "nova.compute.claims [req-a07ac654-8e81-416d-bfb...\n",
      "nova.compute.claims [req-01d570b0-78a7-4719-b7a...\n",
      "\n",
      "\n",
      "Cluster: 22:\n",
      "nova.compute.claims [req-868a5460-dbb6-416b-b4c...\n",
      "nova.compute.claims [req-29a09cdb-3169-4c40-8bd...\n",
      "nova.compute.claims [req-d82fab16-60f8-4c9f-bde...\n",
      "nova.compute.claims [req-3d26bc3d-373c-4269-b09...\n",
      "nova.compute.claims [req-4b4dd551-26d8-48e2-bd5...\n",
      "\n",
      "\n",
      "Cluster: 2:\n",
      "nova.compute.claims [req-a07ac654-8e81-416d-bfb...\n",
      "nova.compute.claims [req-9118475d-6e72-48fa-9de...\n",
      "nova.compute.claims [req-4b4dd551-26d8-48e2-bd5...\n",
      "nova.compute.claims [req-6f9ecdfe-481c-4535-9bd...\n",
      "nova.compute.claims [req-caeb3818-dab6-4e8d-9ea...\n",
      "\n",
      "\n",
      "Cluster: 32:\n",
      "nova.compute.claims [req-9118475d-6e72-48fa-9de...\n",
      "nova.compute.claims [req-29a09cdb-3169-4c40-8bd...\n",
      "nova.compute.claims [req-a07ac654-8e81-416d-bfb...\n",
      "nova.compute.claims [req-3d26bc3d-373c-4269-b09...\n",
      "nova.compute.claims [req-6f9ecdfe-481c-4535-9bd...\n",
      "\n",
      "\n",
      "Cluster: 16:\n",
      "nova.compute.claims [req-5c8f52bd-8e3c-41f0-95a...\n",
      "nova.compute.claims [req-01d570b0-78a7-4719-b7a...\n",
      "nova.compute.claims [req-4b4dd551-26d8-48e2-bd5...\n",
      "nova.compute.claims [req-d82fab16-60f8-4c9f-bde...\n",
      "nova.compute.claims [req-72b4858f-049e-49e1-b31...\n",
      "\n",
      "\n",
      "Cluster: 41:\n",
      "nova.metadata.wsgi.server [req-3a439e39-d7f5-4c...\n",
      "nova.metadata.wsgi.server [-] 10.11.21.138,10.1...\n",
      "nova.metadata.wsgi.server [-] 10.11.21.129,10.1...\n",
      "nova.metadata.wsgi.server [-] 10.11.21.131,10.1...\n",
      "nova.metadata.wsgi.server [-] 10.11.21.139,10.1...\n",
      "\n",
      "\n",
      "Cluster: 28:\n",
      "nova.metadata.wsgi.server [-] 10.11.21.136,10.1...\n",
      "nova.metadata.wsgi.server [req-e5e061d6-f2aa-46...\n",
      "nova.metadata.wsgi.server [-] 10.11.21.132,10.1...\n",
      "nova.metadata.wsgi.server [req-ba4b4d89-3236-41...\n",
      "nova.metadata.wsgi.server [req-cf86bdeb-2809-46...\n",
      "\n",
      "\n",
      "Cluster: 12:\n",
      "nova.metadata.wsgi.server [req-27e91939-3ba4-4d...\n",
      "nova.metadata.wsgi.server [-] 10.11.21.143,10.1...\n",
      "nova.metadata.wsgi.server [req-705dd9dc-0fad-45...\n",
      "nova.metadata.wsgi.server [-] 10.11.21.129,10.1...\n",
      "nova.metadata.wsgi.server [req-7fd3da99-a9b0-4d...\n",
      "\n",
      "\n",
      "Cluster: 6:\n",
      "nova.compute.resource_tracker [req-addc1839-2ed...\n",
      "nova.compute.resource_tracker [req-addc1839-2ed...\n",
      "nova.compute.resource_tracker [req-addc1839-2ed...\n",
      "nova.compute.resource_tracker [req-addc1839-2ed...\n",
      "nova.compute.resource_tracker [req-addc1839-2ed...\n",
      "\n",
      "\n",
      "Cluster: 24:\n",
      "nova.compute.resource_tracker [req-addc1839-2ed...\n",
      "nova.compute.resource_tracker [req-addc1839-2ed...\n",
      "nova.compute.resource_tracker [req-addc1839-2ed...\n",
      "nova.compute.resource_tracker [req-addc1839-2ed...\n",
      "nova.compute.resource_tracker [req-addc1839-2ed...\n",
      "\n",
      "\n",
      "Cluster: 11:\n",
      "System reboot initiated by user User243.\n",
      "System reboot initiated by user User471.\n",
      "System reboot initiated by user User819.\n",
      "System reboot initiated by user User876.\n",
      "System reboot initiated by user User811.\n",
      "\n",
      "\n",
      "Cluster: 27:\n",
      "System reboot initiated by user User938.\n",
      "System reboot initiated by user User929.\n",
      "System reboot initiated by user User648.\n",
      "System reboot initiated by user User964.\n",
      "System reboot initiated by user User329.\n"
     ]
    }
   ],
   "source": [
    "# Group the DataFrame by 'cluster' and count the number of records in each cluster\n",
    "cluster_counts = df['cluster'].value_counts()\n",
    "\n",
    "# Sort by cluster size and filter clusters that have more than 10 records\n",
    "large_clusters = cluster_counts[cluster_counts > 10].index\n",
    "\n",
    "# For each large cluster, print 5 log messages\n",
    "for cluster in large_clusters:\n",
    "    print(f'Cluster: {cluster}:')\n",
    "    print(df[df['cluster'] == cluster]['log_message'].head(5).to_string(index=False))\n",
    "    print(\"\\n\")\n"
   ],
   "metadata": {
    "collapsed": false,
    "ExecuteTime": {
     "end_time": "2025-02-10T12:51:55.382564Z",
     "start_time": "2025-02-10T12:51:55.305822Z"
    }
   },
   "id": "2ad523342092b3d",
   "execution_count": 6
  },
  {
   "cell_type": "code",
   "outputs": [],
   "source": [
    "import re\n",
    "def classify_with_regex(log_message):\n",
    "    regex_patterns = {\n",
    "        r\"User User\\d+ logged (in|out).\": \"User Action\",\n",
    "        r\"Backup (started|ended) at .*\": \"System Notification\",\n",
    "        r\"Backup completed successfully.\": \"System Notification\",\n",
    "        r\"System updated to version .*\": \"System Notification\",\n",
    "        r\"File .* uploaded successfully by user .*\": \"System Notification\",\n",
    "        r\"Disk cleanup completed successfully.\": \"System Notification\",\n",
    "        r\"System reboot initiated by user .*\": \"System Notification\",\n",
    "        r\"Account with ID .* created by .*\": \"User Action\"\n",
    "    }\n",
    "    for pattern, label in regex_patterns.items():\n",
    "        if re.search(pattern, log_message):\n",
    "            return label\n",
    "    return None"
   ],
   "metadata": {
    "collapsed": false,
    "ExecuteTime": {
     "end_time": "2025-02-10T12:51:57.080894Z",
     "start_time": "2025-02-10T12:51:57.070281Z"
    }
   },
   "id": "e85d0b566b4c59d1",
   "execution_count": 7
  },
  {
   "cell_type": "code",
   "outputs": [
    {
     "data": {
      "text/plain": "'System Notification'"
     },
     "execution_count": 8,
     "metadata": {},
     "output_type": "execute_result"
    }
   ],
   "source": [
    "classify_with_regex(\"Backup started at 2025-05-14 07:06:55\")"
   ],
   "metadata": {
    "collapsed": false,
    "ExecuteTime": {
     "end_time": "2025-02-10T12:51:59.244509Z",
     "start_time": "2025-02-10T12:51:59.218569Z"
    }
   },
   "id": "eef2e12244bbbdc7",
   "execution_count": 8
  },
  {
   "cell_type": "code",
   "outputs": [
    {
     "data": {
      "text/plain": "            timestamp         source  \\\n7     10/11/2025 8:44       ModernHR   \n14      1/4/2025 1:43  ThirdPartyAPI   \n15      5/1/2025 9:41      ModernCRM   \n18    2/22/2025 17:49      ModernCRM   \n27    9/24/2025 19:57  ThirdPartyAPI   \n...               ...            ...   \n2376   6/27/2025 8:47      ModernCRM   \n2381    9/5/2025 6:39  ThirdPartyAPI   \n2394   4/3/2025 13:13       ModernHR   \n2395   5/2/2025 14:29  ThirdPartyAPI   \n2403   10/1/2025 1:31      ModernCRM   \n\n                                            log_message         target_label  \\\n7     File data_6169.csv uploaded successfully by us...  System Notification   \n14    File data_3847.csv uploaded successfully by us...  System Notification   \n15                       Backup completed successfully.  System Notification   \n18             Account with ID 5351 created by User634.          User Action   \n27                             User User685 logged out.          User Action   \n...                                                 ...                  ...   \n2376                   System updated to version 2.0.5.  System Notification   \n2381               Disk cleanup completed successfully.  System Notification   \n2394               Disk cleanup completed successfully.  System Notification   \n2395               Backup ended at 2025-05-06 11:23:16.  System Notification   \n2403                     Backup completed successfully.  System Notification   \n\n     complexity  cluster          regex_label  \n7         regex        1  System Notification  \n14        regex        3  System Notification  \n15        regex        4  System Notification  \n18        regex       -1          User Action  \n27        regex       -1          User Action  \n...         ...      ...                  ...  \n2376      regex       79  System Notification  \n2381      regex       20  System Notification  \n2394      regex       20  System Notification  \n2395      regex       21  System Notification  \n2403      regex        4  System Notification  \n\n[500 rows x 7 columns]",
      "text/html": "<div>\n<style scoped>\n    .dataframe tbody tr th:only-of-type {\n        vertical-align: middle;\n    }\n\n    .dataframe tbody tr th {\n        vertical-align: top;\n    }\n\n    .dataframe thead th {\n        text-align: right;\n    }\n</style>\n<table border=\"1\" class=\"dataframe\">\n  <thead>\n    <tr style=\"text-align: right;\">\n      <th></th>\n      <th>timestamp</th>\n      <th>source</th>\n      <th>log_message</th>\n      <th>target_label</th>\n      <th>complexity</th>\n      <th>cluster</th>\n      <th>regex_label</th>\n    </tr>\n  </thead>\n  <tbody>\n    <tr>\n      <th>7</th>\n      <td>10/11/2025 8:44</td>\n      <td>ModernHR</td>\n      <td>File data_6169.csv uploaded successfully by us...</td>\n      <td>System Notification</td>\n      <td>regex</td>\n      <td>1</td>\n      <td>System Notification</td>\n    </tr>\n    <tr>\n      <th>14</th>\n      <td>1/4/2025 1:43</td>\n      <td>ThirdPartyAPI</td>\n      <td>File data_3847.csv uploaded successfully by us...</td>\n      <td>System Notification</td>\n      <td>regex</td>\n      <td>3</td>\n      <td>System Notification</td>\n    </tr>\n    <tr>\n      <th>15</th>\n      <td>5/1/2025 9:41</td>\n      <td>ModernCRM</td>\n      <td>Backup completed successfully.</td>\n      <td>System Notification</td>\n      <td>regex</td>\n      <td>4</td>\n      <td>System Notification</td>\n    </tr>\n    <tr>\n      <th>18</th>\n      <td>2/22/2025 17:49</td>\n      <td>ModernCRM</td>\n      <td>Account with ID 5351 created by User634.</td>\n      <td>User Action</td>\n      <td>regex</td>\n      <td>-1</td>\n      <td>User Action</td>\n    </tr>\n    <tr>\n      <th>27</th>\n      <td>9/24/2025 19:57</td>\n      <td>ThirdPartyAPI</td>\n      <td>User User685 logged out.</td>\n      <td>User Action</td>\n      <td>regex</td>\n      <td>-1</td>\n      <td>User Action</td>\n    </tr>\n    <tr>\n      <th>...</th>\n      <td>...</td>\n      <td>...</td>\n      <td>...</td>\n      <td>...</td>\n      <td>...</td>\n      <td>...</td>\n      <td>...</td>\n    </tr>\n    <tr>\n      <th>2376</th>\n      <td>6/27/2025 8:47</td>\n      <td>ModernCRM</td>\n      <td>System updated to version 2.0.5.</td>\n      <td>System Notification</td>\n      <td>regex</td>\n      <td>79</td>\n      <td>System Notification</td>\n    </tr>\n    <tr>\n      <th>2381</th>\n      <td>9/5/2025 6:39</td>\n      <td>ThirdPartyAPI</td>\n      <td>Disk cleanup completed successfully.</td>\n      <td>System Notification</td>\n      <td>regex</td>\n      <td>20</td>\n      <td>System Notification</td>\n    </tr>\n    <tr>\n      <th>2394</th>\n      <td>4/3/2025 13:13</td>\n      <td>ModernHR</td>\n      <td>Disk cleanup completed successfully.</td>\n      <td>System Notification</td>\n      <td>regex</td>\n      <td>20</td>\n      <td>System Notification</td>\n    </tr>\n    <tr>\n      <th>2395</th>\n      <td>5/2/2025 14:29</td>\n      <td>ThirdPartyAPI</td>\n      <td>Backup ended at 2025-05-06 11:23:16.</td>\n      <td>System Notification</td>\n      <td>regex</td>\n      <td>21</td>\n      <td>System Notification</td>\n    </tr>\n    <tr>\n      <th>2403</th>\n      <td>10/1/2025 1:31</td>\n      <td>ModernCRM</td>\n      <td>Backup completed successfully.</td>\n      <td>System Notification</td>\n      <td>regex</td>\n      <td>4</td>\n      <td>System Notification</td>\n    </tr>\n  </tbody>\n</table>\n<p>500 rows × 7 columns</p>\n</div>"
     },
     "execution_count": 9,
     "metadata": {},
     "output_type": "execute_result"
    }
   ],
   "source": [
    "# Apply regex classification\n",
    "df['regex_label'] = df['log_message'].apply(lambda x: classify_with_regex(x))\n",
    "df[df['regex_label'].notnull()]\n"
   ],
   "metadata": {
    "collapsed": false,
    "ExecuteTime": {
     "end_time": "2025-02-10T12:52:00.327019Z",
     "start_time": "2025-02-10T12:52:00.248772Z"
    }
   },
   "id": "4f7f965cf686141c",
   "execution_count": 9
  },
  {
   "cell_type": "code",
   "outputs": [
    {
     "data": {
      "text/plain": "(1910, 7)"
     },
     "execution_count": 10,
     "metadata": {},
     "output_type": "execute_result"
    }
   ],
   "source": [
    "df_non_regex = df[df['regex_label'].isnull()].copy()\n",
    "df_non_regex.shape"
   ],
   "metadata": {
    "collapsed": false,
    "ExecuteTime": {
     "end_time": "2025-02-10T12:52:03.210091Z",
     "start_time": "2025-02-10T12:52:03.188027Z"
    }
   },
   "id": "4f8c228de542db",
   "execution_count": 10
  },
  {
   "cell_type": "code",
   "outputs": [
    {
     "data": {
      "text/plain": "array(['ModernCRM', 'AnalyticsEngine', 'ModernHR', 'BillingSystem',\n       'ThirdPartyAPI'], dtype=object)"
     },
     "execution_count": 11,
     "metadata": {},
     "output_type": "execute_result"
    }
   ],
   "source": [
    "df_n_legacy = df_non_regex[df_non_regex.source!=\"LegacyCRM\"]\n",
    "df_n_legacy.source.unique()"
   ],
   "metadata": {
    "collapsed": false,
    "ExecuteTime": {
     "end_time": "2025-02-10T12:52:04.203460Z",
     "start_time": "2025-02-10T12:52:04.175703Z"
    }
   },
   "id": "bdceedb50e2538d8",
   "execution_count": 11
  },
  {
   "cell_type": "code",
   "outputs": [
    {
     "data": {
      "text/plain": "array([[-1.02939717e-01,  3.35459895e-02, -2.20260434e-02,\n         1.55100622e-03, -9.86912940e-03, -1.78956345e-01,\n        -6.34409934e-02, -6.01761267e-02,  2.81108730e-02,\n         5.99619709e-02, -1.72618106e-02,  1.43368833e-03,\n        -1.49559975e-01,  3.15280259e-03, -5.66031225e-02,\n         2.71685645e-02, -1.49890687e-02, -3.54037769e-02,\n        -3.62936147e-02, -1.45410709e-02, -5.61491819e-03,\n         8.75539333e-02,  4.55120951e-02,  2.50963438e-02,\n         1.00188032e-02,  1.24267070e-02, -1.39923558e-01,\n         7.68695921e-02,  3.14095505e-02, -4.15250845e-03,\n         4.36903723e-02,  1.71250105e-02, -8.00951421e-02,\n         5.74006326e-02,  1.89091861e-02,  8.55261832e-02,\n         3.96398939e-02, -1.34371832e-01, -1.44363695e-03,\n         3.06711602e-03,  1.76854104e-01,  4.44891676e-03,\n        -1.69273838e-02,  2.24266760e-02, -4.35050540e-02,\n         6.09031972e-03, -9.98173840e-03, -6.23971745e-02,\n         1.07371574e-02, -6.04891405e-03, -7.14659989e-02,\n        -8.45808070e-03, -3.18020284e-02, -1.00518346e-01,\n         2.25932949e-04, -1.89341716e-02, -3.17795314e-02,\n         4.00861353e-02,  2.19177939e-02, -2.59528477e-02,\n         5.84524572e-02, -8.12509581e-02,  2.12029219e-02,\n        -5.02687804e-02,  1.32057276e-02,  1.32674351e-03,\n         2.27062888e-02, -3.45794372e-02,  3.91547941e-02,\n        -2.09433921e-02,  3.24820052e-03,  4.43960577e-02,\n        -9.85357612e-02, -2.88895406e-02, -6.85034972e-03,\n         5.38818985e-02,  6.46109581e-02, -2.45060120e-02,\n         9.21828374e-02, -7.49869570e-02,  1.23995245e-02,\n        -1.00026593e-01, -4.64910269e-02,  6.01570196e-02,\n        -2.46480666e-02, -7.08075762e-02, -2.77270563e-02,\n         9.72610787e-02,  3.85841690e-02, -1.44292796e-02,\n        -7.46844511e-04, -1.04305698e-02, -1.61842834e-02,\n         4.43627872e-02,  9.25992429e-03,  7.14165717e-02,\n         6.37916028e-02,  4.94931042e-02, -6.02567606e-02,\n         4.04806249e-02, -3.42860669e-02, -1.93880890e-02,\n         6.61234111e-02,  6.01589046e-02,  1.09370658e-02,\n        -5.38631110e-03,  1.44579671e-02,  9.25430581e-02,\n        -3.14563848e-02, -1.84351578e-02,  9.91870835e-03,\n        -1.85575187e-02,  1.31287798e-03,  2.26604952e-05,\n         2.02729343e-03,  2.75255665e-02, -4.81927283e-02,\n         5.42825796e-02, -7.32067078e-02,  4.88666855e-02,\n         4.98490408e-02, -9.01144277e-03, -4.68905829e-02,\n        -4.25886996e-02, -8.19524676e-02,  3.87105681e-02,\n         7.85504505e-02,  1.46077111e-32,  1.66706368e-02,\n         5.25493771e-02, -1.82449799e-02, -1.26686813e-02,\n         6.52837381e-02, -2.11777557e-02, -4.06322069e-02,\n         4.14948203e-02, -2.48361379e-02, -1.33068440e-02,\n        -5.46753146e-02, -5.99108869e-04, -4.89245867e-03,\n        -6.27359971e-02, -3.84878702e-02, -6.13543801e-02,\n         8.27405080e-02,  2.34380811e-02, -8.63087829e-03,\n         1.31002376e-02,  6.44213855e-02, -4.41360995e-02,\n        -6.98632821e-02, -7.36060143e-02, -4.33264524e-02,\n         6.96520088e-03, -5.05956896e-02, -1.60911605e-02,\n        -5.66794015e-02,  3.35454661e-03,  5.34115657e-02,\n         2.47761477e-02, -1.47986254e-02, -2.93242708e-02,\n         7.30228722e-02, -1.86832845e-02,  8.13137516e-02,\n        -2.69968081e-02, -5.68056069e-02, -6.59387857e-02,\n        -5.95393218e-03,  2.85312608e-02, -7.85357803e-02,\n        -2.76697055e-03, -3.26472893e-03, -9.28333327e-02,\n        -7.27363750e-02, -3.31902951e-02,  1.01411149e-01,\n         9.79881659e-02, -9.78740603e-02,  1.98668223e-02,\n         2.38837283e-02, -1.81673523e-02, -3.73708867e-02,\n         1.96555234e-03,  6.34425655e-02,  1.18271299e-02,\n        -1.12041552e-02, -3.87316048e-02,  9.32424292e-02,\n         4.26634448e-03, -1.66872814e-02, -6.87464923e-02,\n         1.55119365e-02, -4.97755110e-02,  3.34492587e-02,\n         8.00032392e-02,  2.12282352e-02,  1.34581864e-01,\n        -2.30729841e-02,  5.53858541e-02,  3.07557620e-02,\n        -2.93906052e-02,  2.31905468e-02, -9.34306458e-02,\n         7.58035034e-02, -5.21199405e-03, -5.14523573e-02,\n         3.32689174e-02,  3.67963053e-02, -1.06450235e-02,\n         1.01635531e-02, -2.07650401e-02, -5.85518852e-02,\n         4.79328781e-02,  2.13694703e-02,  8.76212567e-02,\n         3.35493055e-03, -3.80336307e-02, -1.81205235e-02,\n         6.87443977e-03,  5.15878871e-02, -4.75598834e-02,\n        -6.12064339e-02, -1.45483633e-32,  4.12800442e-03,\n         4.59646899e-03, -5.63901365e-02,  4.32469789e-03,\n        -1.09446619e-03,  9.31955874e-03, -2.20268536e-02,\n         5.79564720e-02, -1.44787608e-02,  4.64156121e-02,\n         1.43542930e-01, -6.89756200e-02,  6.09630719e-02,\n        -8.93744007e-02,  2.40919199e-02,  2.06010193e-02,\n        -2.82415692e-02, -6.48315549e-02,  5.64794615e-02,\n        -7.48333056e-03, -3.52057889e-02,  8.51060152e-02,\n         1.30359307e-02,  2.02258285e-02, -1.44391302e-02,\n        -4.63718623e-02,  1.77210607e-02,  1.59105714e-02,\n        -9.51009169e-02, -3.54527533e-02,  2.08695848e-02,\n         3.84382228e-03, -8.77918005e-02,  6.44575059e-02,\n         1.44170690e-02,  3.84730333e-03,  4.70991842e-02,\n         4.94661964e-02,  1.53862881e-02, -2.59579122e-02,\n         9.10895318e-02,  1.83307864e-02, -5.89206442e-02,\n         2.51992941e-02, -3.30374539e-02,  8.23344141e-02,\n         1.74792018e-02,  6.48047999e-02, -1.19674364e-02,\n        -3.31778415e-02,  3.00177187e-02,  3.54220979e-02,\n        -1.39624029e-02,  6.69272542e-02,  3.87919322e-02,\n         6.06916845e-02,  1.17960921e-03, -2.38786284e-02,\n        -1.26930460e-01,  1.13847163e-02,  1.59290340e-02,\n        -1.29426150e-02, -8.63248184e-02,  8.53665173e-03,\n         6.03761375e-02,  1.51121533e-02, -1.19132377e-01,\n         1.15234153e-02,  5.97089306e-02, -3.93345840e-02,\n         1.55674480e-02,  1.04602296e-02, -4.72456664e-02,\n        -2.59244256e-02,  9.98532120e-03,  3.07146050e-02,\n        -7.14843869e-02,  6.98958011e-03, -1.55133456e-02,\n         2.18864381e-02, -2.78146118e-02,  6.92734197e-02,\n        -2.75904443e-02,  2.62429081e-02,  3.52563746e-02,\n        -4.26419638e-02,  7.46305101e-04,  6.59867451e-02,\n        -5.15104942e-02, -3.58433761e-02, -6.53445860e-03,\n        -2.75858529e-02, -1.00125581e-01,  7.83325732e-02,\n        -1.45799527e-02, -6.18457392e-08,  2.00324710e-02,\n         6.59785271e-02, -2.04701982e-02,  1.64044667e-02,\n         7.63001665e-02,  7.32182637e-02,  5.65791037e-03,\n        -6.97698735e-04, -3.63799836e-03,  6.02393895e-02,\n        -3.27187479e-02, -6.45837486e-02, -5.97952716e-02,\n        -1.76696610e-02,  6.10147370e-03, -5.63488901e-03,\n        -1.22972228e-01,  6.35818094e-02, -2.19432283e-02,\n        -1.16406456e-01,  2.34365165e-02, -7.23525509e-02,\n         2.31774077e-02, -6.55987784e-02, -7.42682293e-02,\n         2.60146074e-02,  3.59757729e-02,  7.68433437e-02,\n        -3.08057517e-02, -2.34793611e-02, -6.30425438e-02,\n        -3.62157747e-02, -1.03560155e-02, -4.75602746e-02,\n        -2.87521705e-02,  2.96401195e-02, -5.26903057e-03,\n         5.67890406e-02, -3.74490069e-03,  3.09612118e-02,\n         3.48227173e-02,  3.78607661e-02,  2.10156534e-02,\n         2.70692147e-02,  5.25520742e-02,  7.16229901e-02,\n        -5.53750433e-03,  4.01093699e-02,  5.16276471e-02,\n        -2.67314743e-02,  5.94223514e-02, -4.29224446e-02,\n        -1.19760865e-02,  3.05985343e-02, -7.40331709e-02,\n         1.84221398e-02, -8.64860136e-03, -8.83557796e-02,\n        -5.91984540e-02, -1.00846803e-04,  1.12913638e-01,\n         4.57788678e-03, -4.25971486e-02,  3.22623295e-03],\n       [ 8.04572925e-03, -3.57392468e-02,  4.93873730e-02,\n        -7.19193602e-03,  6.17646321e-04, -9.05684531e-02,\n         5.75595126e-02, -4.39445600e-02,  1.74751244e-02,\n         5.21203019e-02, -4.62332331e-02,  2.49039680e-02,\n         4.80811261e-02,  6.86636642e-02,  3.56146879e-02,\n         3.00088692e-02,  2.61450224e-02, -9.05242637e-02,\n        -8.02173764e-02,  5.04850931e-02, -7.90871233e-02,\n        -1.76848902e-03, -2.48927120e-02,  9.02152508e-02,\n         5.83698554e-03, -6.91071302e-02, -6.67965263e-02,\n        -6.99116988e-03, -1.04566045e-01, -2.66474169e-02,\n         3.05640530e-02,  2.02934239e-02,  2.25454271e-02,\n        -4.22683870e-03,  1.11173214e-02,  6.78260699e-02,\n         1.06074009e-02,  7.56636187e-02, -8.22778121e-02,\n         8.45733285e-03, -6.97611794e-02, -4.21974659e-02,\n        -1.05675515e-02,  2.23673359e-02,  5.64497039e-02,\n         8.16498138e-03,  1.09344020e-01,  3.16565037e-02,\n        -1.76923610e-02, -3.21070924e-02, -3.39975841e-02,\n        -4.91814746e-04,  3.72877251e-03,  2.83771902e-02,\n        -1.28521156e-02, -1.07930752e-03, -6.32418618e-02,\n         6.89900964e-02,  1.77270826e-02, -5.20959087e-02,\n         8.28311592e-03,  5.45032620e-02, -5.42099364e-02,\n        -4.53332514e-02, -4.07493487e-02, -2.82698702e-02,\n         1.23605849e-02, -2.13815775e-02, -2.36265939e-02,\n         1.25317750e-02, -2.37170439e-02,  3.97411287e-02,\n        -1.24362186e-01,  7.60625824e-02,  5.50833456e-02,\n         8.28217566e-02,  2.97119245e-02, -1.84067693e-02,\n        -1.96194444e-02,  5.54319322e-02, -3.49144191e-02,\n        -4.14677225e-02, -3.37047577e-02,  7.31324926e-02,\n         4.41836342e-02,  2.55246721e-02, -8.26405827e-03,\n        -1.07322950e-02, -4.26243730e-02, -2.84961471e-03,\n         7.38559440e-02,  2.27768999e-02,  7.15369708e-04,\n         4.36011814e-02,  5.09080105e-02,  6.38482496e-02,\n        -2.73155663e-02, -6.55022040e-02, -7.69265220e-02,\n         3.55171300e-02,  9.60493982e-02,  2.18195226e-02,\n         1.20155038e-02, -1.17863687e-02, -4.57930146e-03,\n        -8.58036801e-03,  3.37150283e-02,  2.31918357e-02,\n        -7.58325532e-02, -5.23878634e-02,  4.53933999e-02,\n        -3.80785428e-02, -3.34904827e-02,  9.20353010e-02,\n         2.87688915e-02, -3.33817638e-02, -1.95854716e-03,\n        -3.04582238e-04, -1.70499403e-02,  2.85335667e-02,\n        -8.81096274e-02, -4.02252451e-02, -4.00092937e-02,\n        -1.03193242e-02, -2.51968373e-02,  2.14093495e-02,\n         1.31045252e-01, -5.29635832e-34, -1.09651715e-01,\n         1.29811801e-02,  5.92658017e-03,  4.73506227e-02,\n        -8.60294886e-03, -3.67089994e-02,  3.05214971e-02,\n         5.53067215e-02, -4.71985564e-02, -1.25118652e-02,\n        -1.15366444e-01,  9.08003934e-03,  1.07346505e-01,\n        -4.94734794e-02, -1.34290680e-02, -4.61562723e-02,\n         2.45320313e-02,  9.45076533e-03,  2.04324648e-02,\n        -3.99918817e-02, -4.67826054e-02,  2.21171565e-02,\n        -4.58187014e-02, -8.13269522e-03, -7.65663479e-03,\n         1.92283876e-02,  4.85845096e-02, -2.55902130e-02,\n         1.61545107e-03, -1.37180565e-02,  9.67314187e-03,\n         7.36417295e-03,  1.14088319e-02,  1.28853396e-01,\n         7.71834934e-03,  7.06362277e-02,  2.54451241e-02,\n         4.06523980e-02,  2.44038980e-02,  1.43776787e-02,\n        -6.00931980e-02,  7.38179982e-02, -2.44701784e-02,\n         8.98901671e-02,  3.17052263e-03,  1.01834416e-01,\n         4.17742021e-02, -5.95178455e-02, -3.23182568e-02,\n         3.80938761e-02,  1.21155549e-02, -4.07834277e-02,\n         2.84822863e-02,  4.90988269e-02, -9.35703423e-03,\n         6.50073886e-02,  7.23532289e-02, -1.67793538e-02,\n        -8.22416786e-03, -1.61573347e-02,  5.96225634e-02,\n        -3.36084589e-02,  2.12108474e-02, -6.06090799e-02,\n         1.54377639e-01, -7.24146143e-02, -3.77272628e-02,\n        -3.26890387e-02, -1.80382456e-03, -1.01960059e-02,\n        -1.60678441e-03, -6.91846460e-02,  8.28445256e-02,\n         9.88839567e-02,  3.45471292e-03, -9.90247503e-02,\n        -3.52826826e-02, -7.13179037e-02, -4.96000759e-02,\n        -3.43954712e-02, -8.13041925e-02,  4.81447391e-02,\n         5.00680599e-03, -2.21499596e-02, -5.60056902e-02,\n         1.00067845e-02, -3.59794162e-02,  1.06184304e-01,\n        -4.54196744e-02,  7.16393664e-02, -2.36773137e-02,\n         9.98142920e-03,  2.73602121e-02,  1.05985440e-01,\n         4.60164882e-02,  9.59029362e-34, -1.12306938e-01,\n         2.78912801e-02, -3.35901082e-02,  5.39241917e-02,\n        -2.22291369e-02,  1.53768649e-02,  3.10410988e-02,\n         3.39011140e-02,  7.43167028e-02,  3.42470743e-02,\n        -3.35061387e-03, -2.05350704e-02, -3.62369716e-02,\n         2.29334738e-02, -3.01991645e-02, -1.00819930e-01,\n         3.29194628e-02,  6.77542463e-02,  1.35645019e-02,\n        -5.20546129e-03, -6.58158883e-02,  9.54551101e-02,\n        -1.34038785e-02,  1.53885093e-02, -7.22936243e-02,\n         9.67836604e-02, -8.08119848e-02, -4.53449739e-03,\n        -6.42011762e-02, -4.99278344e-02,  4.64197844e-02,\n         2.21340209e-02,  3.13109867e-02,  9.13568214e-02,\n        -4.61120047e-02, -1.02761127e-01,  3.04416120e-02,\n         5.09875901e-02,  6.70140535e-02,  1.04042804e-02,\n         1.63533874e-02,  3.92030776e-02,  2.17154622e-02,\n         5.36603630e-02,  3.62809226e-02, -4.22140434e-02,\n        -2.47227047e-02,  1.90311279e-02,  3.61723937e-02,\n         6.37020841e-02, -3.21585545e-03, -8.50391481e-03,\n         3.94655652e-02,  9.02655348e-03,  1.93096232e-02,\n         6.60717785e-02,  1.02694659e-02, -4.43853736e-02,\n        -1.56523008e-02, -1.55713437e-02,  1.32904556e-02,\n        -1.16108349e-02,  4.21832129e-02, -5.44777066e-02,\n         1.29237175e-01, -2.25757379e-02,  5.26203923e-02,\n        -1.58437453e-02,  9.33164880e-02,  6.38024276e-03,\n        -9.36163962e-03, -6.08875379e-02, -3.27307843e-02,\n        -3.44816558e-02,  3.29974107e-02, -4.79392037e-02,\n        -9.81301069e-02,  2.91164909e-02, -2.70903260e-02,\n         1.81866921e-02, -1.73860509e-02, -4.40371893e-02,\n        -7.97002539e-02,  3.01647019e-02, -6.35260791e-02,\n         1.25963101e-02,  8.50249827e-02, -4.58910465e-02,\n         5.81017509e-02, -2.71002334e-02,  8.42775628e-02,\n        -4.09973562e-02, -3.37656550e-02,  1.02088340e-02,\n        -2.54192911e-02, -1.40610288e-08,  4.94446792e-02,\n        -9.04356688e-02, -6.06709756e-02,  8.29530135e-02,\n        -3.29032354e-02,  4.14910764e-02,  9.99591500e-03,\n         6.96134800e-03,  3.99240246e-03, -3.24333124e-02,\n        -3.14657241e-02, -5.33161499e-02, -3.80912945e-02,\n         1.62076168e-02,  2.45779082e-02, -7.26419091e-02,\n        -6.56893775e-02, -8.23131725e-02, -8.00500959e-02,\n        -5.36648780e-02,  5.60894385e-02, -1.10913264e-02,\n         9.62204183e-04, -1.22690313e-01, -5.13836928e-02,\n         9.96702444e-03,  1.00696078e-02,  1.07073076e-01,\n         1.19758295e-02,  1.00424336e-02, -6.28262088e-02,\n        -7.49697164e-02, -6.34072954e-03, -2.72201207e-02,\n        -1.28096178e-01, -2.62460150e-02, -1.81464609e-02,\n        -9.85360369e-02, -3.02990042e-02, -4.02614661e-02,\n         9.94291008e-02,  5.35999574e-02,  2.74899434e-02,\n        -5.53681748e-03,  8.43570828e-02,  8.35161582e-02,\n         3.74304391e-02,  7.11937845e-02,  2.98903100e-02,\n         2.32728645e-02, -3.62112969e-02,  6.20540008e-02,\n         2.15147771e-02,  5.19732833e-02,  1.45337936e-02,\n        -4.60966937e-02,  5.02554551e-02, -7.27027506e-02,\n         2.92778872e-02,  5.62663227e-02, -3.86355557e-02,\n         1.53831681e-02, -6.23095073e-02, -2.77466774e-02]], dtype=float32)"
     },
     "execution_count": 12,
     "metadata": {},
     "output_type": "execute_result"
    }
   ],
   "source": [
    "n_legacy_embeddings = model.encode(df_n_legacy['log_message'].tolist())\n",
    "n_legacy_embeddings[:2]"
   ],
   "metadata": {
    "collapsed": false,
    "ExecuteTime": {
     "end_time": "2025-02-10T12:53:34.457999Z",
     "start_time": "2025-02-10T12:52:07.382991Z"
    }
   },
   "id": "86e6d5a07ef989d0",
   "execution_count": 12
  },
  {
   "cell_type": "code",
   "outputs": [],
   "source": [
    "X = n_legacy_embeddings\n",
    "y = df_n_legacy['target_label'].values"
   ],
   "metadata": {
    "collapsed": false,
    "ExecuteTime": {
     "end_time": "2025-02-10T12:53:34.467311Z",
     "start_time": "2025-02-10T12:53:34.462006Z"
    }
   },
   "id": "9cd37a64e7ac951b",
   "execution_count": 13
  },
  {
   "cell_type": "code",
   "outputs": [
    {
     "name": "stdout",
     "output_type": "stream",
     "text": [
      "                precision    recall  f1-score   support\n",
      "\n",
      "Critical Error       0.91      1.00      0.95        48\n",
      "         Error       0.98      0.89      0.93        47\n",
      "   HTTP Status       1.00      1.00      1.00       304\n",
      "Resource Usage       1.00      1.00      1.00        49\n",
      "Security Alert       1.00      0.99      1.00       123\n",
      "\n",
      "      accuracy                           0.99       571\n",
      "     macro avg       0.98      0.98      0.98       571\n",
      "  weighted avg       0.99      0.99      0.99       571\n"
     ]
    }
   ],
   "source": [
    "from sklearn.model_selection import train_test_split\n",
    "from sklearn.linear_model import LogisticRegression\n",
    "from sklearn.metrics import accuracy_score\n",
    "from sklearn.metrics import classification_report\n",
    "\n",
    "X_train, X_test, y_train, y_test = train_test_split(X, y, test_size=0.3, random_state=42)\n",
    "clf = LogisticRegression(max_iter=1000)\n",
    "clf.fit(X_train, y_train)\n",
    "y_pred = clf.predict(X_test)\n",
    "report = classification_report(y_test, y_pred)\n",
    "print(report)"
   ],
   "metadata": {
    "collapsed": false,
    "ExecuteTime": {
     "end_time": "2025-02-10T12:53:34.726756Z",
     "start_time": "2025-02-10T12:53:34.473322Z"
    }
   },
   "id": "37629311daface9b",
   "execution_count": 14
  },
  {
   "cell_type": "code",
   "outputs": [
    {
     "data": {
      "text/plain": "['../model/logistic_model.joblib']"
     },
     "execution_count": 15,
     "metadata": {},
     "output_type": "execute_result"
    }
   ],
   "source": [
    "import joblib\n",
    "joblib.dump(clf, '../model/logistic_model.joblib')"
   ],
   "metadata": {
    "collapsed": false,
    "ExecuteTime": {
     "end_time": "2025-02-10T12:53:34.760450Z",
     "start_time": "2025-02-10T12:53:34.729765Z"
    }
   },
   "id": "54b7d7fe634277f3",
   "execution_count": 15
  },
  {
   "cell_type": "code",
   "outputs": [],
   "source": [],
   "metadata": {
    "collapsed": false
   },
   "id": "b9c3b7badeee8833"
  }
 ],
 "metadata": {
  "kernelspec": {
   "display_name": "Python 3",
   "language": "python",
   "name": "python3"
  },
  "language_info": {
   "codemirror_mode": {
    "name": "ipython",
    "version": 2
   },
   "file_extension": ".py",
   "mimetype": "text/x-python",
   "name": "python",
   "nbconvert_exporter": "python",
   "pygments_lexer": "ipython2",
   "version": "2.7.6"
  }
 },
 "nbformat": 4,
 "nbformat_minor": 5
}
